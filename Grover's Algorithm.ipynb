{
 "cells": [
  {
   "cell_type": "code",
   "execution_count": 1,
   "id": "cfa2cb54",
   "metadata": {},
   "outputs": [],
   "source": [
    "from qiskit import *\n",
    "from qiskit.visualization import plot_histogram, array_to_latex\n",
    "from qiskit.providers.ibmq import least_busy\n",
    "import matplotlib.pyplot as plt\n",
    "import numpy as np"
   ]
  },
  {
   "cell_type": "code",
   "execution_count": 2,
   "id": "a41742c3",
   "metadata": {},
   "outputs": [],
   "source": [
    "grover_circuit = QuantumCircuit(2)"
   ]
  },
  {
   "cell_type": "code",
   "execution_count": 3,
   "id": "4468ba5d",
   "metadata": {},
   "outputs": [],
   "source": [
    "def init_state(qc, qubits):\n",
    "    for q in qubits:\n",
    "        qc.h(q)\n",
    "    return qc"
   ]
  },
  {
   "cell_type": "code",
   "execution_count": 4,
   "id": "0e32eada",
   "metadata": {},
   "outputs": [
    {
     "data": {
      "image/png": "[encoded data removed]",
      "text/plain": [
       "<Figure size 146.652x144.48 with 1 Axes>"
      ]
     },
     "execution_count": 4,
     "metadata": {},
     "output_type": "execute_result"
    }
   ],
   "source": [
    "grover_circuit = init_state(grover_circuit, [0, 1])\n",
    "grover_circuit.draw(\"mpl\")"
   ]
  },
  {
   "cell_type": "code",
   "execution_count": 5,
   "id": "d92aaa86",
   "metadata": {},
   "outputs": [
    {
     "data": {
      "image/png": "[encoded data removed]",
      "text/plain": [
       "<Figure size 146.652x144.48 with 1 Axes>"
      ]
     },
     "execution_count": 5,
     "metadata": {},
     "output_type": "execute_result"
    }
   ],
   "source": [
    "def oracle(qc, qubits):\n",
    "    qc.cz(qubits[0], qubits[1])\n",
    "qc = QuantumCircuit(2)\n",
    "oracle(qc, [0, 1])\n",
    "qc.draw(\"mpl\")    "
   ]
  },
  {
   "cell_type": "code",
   "execution_count": 6,
   "id": "056d267b",
   "metadata": {},
   "outputs": [],
   "source": [
    "def diffusion(qc, qubits):\n",
    "    qc.h([0, 1])\n",
    "\n",
    "    qc.z([0, 1])\n",
    "    qc.cz(0, 1)\n",
    "\n",
    "    qc.h([0, 1])"
   ]
  },
  {
   "cell_type": "code",
   "execution_count": 7,
   "id": "fbf7a3f2",
   "metadata": {},
   "outputs": [
    {
     "data": {
      "image/png": "[encoded data removed]",
      "text/plain": [
       "<Figure size 779.079x204.68 with 1 Axes>"
      ]
     },
     "execution_count": 7,
     "metadata": {},
     "output_type": "execute_result"
    }
   ],
   "source": [
    "grover_circuit.barrier()\n",
    "oracle(grover_circuit, [0, 1])\n",
    "grover_circuit.barrier()\n",
    "diffusion(grover_circuit, [0, 1])\n",
    "grover_circuit.measure_all()\n",
    "grover_circuit.draw(\"mpl\")"
   ]
  },
  {
   "cell_type": "code",
   "execution_count": 8,
   "id": "0b4ba1c2",
   "metadata": {},
   "outputs": [
    {
     "name": "stdout",
     "output_type": "stream",
     "text": [
      "Statevector([-0.+0.0000000e+00j,  0.+0.0000000e+00j,  0.+0.0000000e+00j,\n",
      "              1.-2.4492936e-16j],\n",
      "            dims=(2, 2))\n"
     ]
    }
   ],
   "source": [
    "sv_sim = Aer.get_backend('statevector_simulator')\n",
    "result = sv_sim.run(grover_circuit).result()\n",
    "statevec = result.get_statevector()\n",
    "statevec"
   ]
  },
  {
   "cell_type": "code",
   "execution_count": 9,
   "id": "df48364d",
   "metadata": {},
   "outputs": [
    {
     "name": "stderr",
     "output_type": "stream",
     "text": [
      "C:\\Users\\drith\\AppData\\Local\\Temp/ipykernel_20084/3614903350.py:1: DeprecationWarning: The qiskit.IBMQ entrypoint and the qiskit-ibmq-provider package (accessible from 'qiskit.providers.ibmq`) are deprecated and will be removed in a future release. Instead you should use the qiskit-ibm-provider package which is accessible from 'qiskit_ibm_provider'. You can install it with 'pip install qiskit_ibm_provider'. Just replace 'qiskit.IBMQ' with 'qiskit_ibm_provider.IBMProvider'\n",
      "  provider = IBMQ.load_account()\n"
     ]
    },
    {
     "name": "stdout",
     "output_type": "stream",
     "text": [
      "Running on current least busy device:  ibmq_quito\n"
     ]
    }
   ],
   "source": [
    "provider = IBMQ.load_account()\n",
    "provider = IBMQ.get_provider(\"ibm-q\")\n",
    "device = least_busy(provider.backends(filters=lambda x: x.configuration().n_qubits >= 3 and \n",
    "                                   not x.configuration().simulator and x.status().operational==True))\n",
    "print(\"Running on current least busy device: \", device)"
   ]
  },
  {
   "cell_type": "code",
   "execution_count": 10,
   "id": "dbf83ae4",
   "metadata": {},
   "outputs": [
    {
     "name": "stdout",
     "output_type": "stream",
     "text": [
      "Job Status: job has successfully run\n"
     ]
    }
   ],
   "source": [
    "from qiskit.tools.monitor import job_monitor\n",
    "transpiled_grover_circuit = transpile(grover_circuit, device, optimization_level=3)\n",
    "job = device.run(transpiled_grover_circuit)\n",
    "job_monitor(job, interval=2)"
   ]
  },
  {
   "cell_type": "code",
   "execution_count": 11,
   "id": "960bd908",
   "metadata": {},
   "outputs": [
    {
     "data": {
      "image/png": "[encoded data removed]",
      "text/plain": [
       "<Figure size 504x360 with 1 Axes>"
      ]
     },
     "execution_count": 11,
     "metadata": {},
     "output_type": "execute_result"
    }
   ],
   "source": [
    "results = job.result()\n",
    "answer = results.get_counts(grover_circuit)\n",
    "plot_histogram(answer)"
   ]
  },
  {
   "cell_type": "code",
   "execution_count": null,
   "id": "e7eeeffd",
   "metadata": {},
   "outputs": [],
   "source": []
  }
 ],
 "metadata": {
  "kernelspec": {
   "display_name": "Python 3 (ipykernel)",
   "language": "python",
   "name": "python3"
  },
  "language_info": {
   "codemirror_mode": {
    "name": "ipython",
    "version": 3
   },
   "file_extension": ".py",
   "mimetype": "text/x-python",
   "name": "python",
   "nbconvert_exporter": "python",
   "pygments_lexer": "ipython3",
   "version": "3.9.7"
  }
 },
 "nbformat": 4,
 "nbformat_minor": 5
}
